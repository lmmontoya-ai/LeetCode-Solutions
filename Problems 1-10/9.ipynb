{
 "cells": [
  {
   "cell_type": "markdown",
   "id": "fe4dd9b7",
   "metadata": {},
   "source": [
    "# 9. Palindrome Number\n",
    "\n",
    "Given an integer `x`, return `True` if `x` is a palindrome, and `False` otherwise.\n",
    "\n",
    "- Example 1:\n",
    "    - Input: `x = 121`\n",
    "    - Output: `True`\n",
    "    - Explanation: `121` reads as `121` from left to right and from right to left.\n",
    "\n",
    "- Example 2:\n",
    "    - Input: `x = -121`\n",
    "    - Output: `False`\n",
    "    - Explanation: From left to right, it reads `-121`. From right to left, it becomes `121-`. Therefore it is not a palindrome.\n",
    "\n",
    "- Example 3:\n",
    "    - Input: `x = 10`\n",
    "    - Output: `False`\n",
    "    - Explanation: Reads 01 from right to left. Therefore it is not a palindrome.\n",
    " \n",
    "\n",
    "Constraints:\n",
    "`-231 <= x <= 231 - 1`\n",
    " \n",
    "\n",
    "Follow up: Could you solve it without converting the integer to a string?"
   ]
  },
  {
   "cell_type": "code",
   "execution_count": null,
   "id": "41e01ef2",
   "metadata": {},
   "outputs": [],
   "source": [
    "def isPalindrome(x):\n",
    "    \"\"\"\n",
    "    Check if the number x is a palindrome. \n",
    "    Negative numbers are not a palindrome. \n",
    "    Transform the number to string and compares the string vs the reversed string \n",
    "    \n",
    "    Args:\n",
    "        x (int): number to check if it's palindrome\n",
    "\n",
    "    Returns:\n",
    "        bool: is palindrome or not\n",
    "    \"\"\"\n",
    "    s = str(x)\n",
    "    \n",
    "    try: \n",
    "        if s == s[::-1]:\n",
    "            return True\n",
    "        else:\n",
    "            return False\n",
    "        \n",
    "    except Exception:\n",
    "        return False"
   ]
  },
  {
   "cell_type": "code",
   "execution_count": 2,
   "id": "10172d77",
   "metadata": {},
   "outputs": [],
   "source": [
    "x = 121\n",
    "assert isPalindrome(x) "
   ]
  },
  {
   "cell_type": "code",
   "execution_count": 3,
   "id": "39673b5f",
   "metadata": {},
   "outputs": [],
   "source": [
    "x = -121\n",
    "assert not isPalindrome(x) "
   ]
  },
  {
   "cell_type": "code",
   "execution_count": 4,
   "id": "773f32dd",
   "metadata": {},
   "outputs": [],
   "source": [
    "x = 10\n",
    "assert not isPalindrome(x) "
   ]
  },
  {
   "cell_type": "code",
   "execution_count": 120,
   "id": "b88dac46",
   "metadata": {},
   "outputs": [],
   "source": [
    "def isPalindrome(x):\n",
    "    \"\"\"    \n",
    "    Check if the number x is a palindrome. \n",
    "    Negative numbers are not a palindrome. \n",
    "    Count the number of digits and iterates over the range of number digits \n",
    "    Calculates the \n",
    "    \n",
    "    Args:\n",
    "        x (int): number to check if it's palindrome\n",
    "\n",
    "    Returns:\n",
    "        bool: is palindrome or not\n",
    "    \"\"\"\n",
    "    \n",
    "    import numpy as np\n",
    "        \n",
    "    if x < 0: \n",
    "        return False\n",
    "        \n",
    "    num_digits = int(np.log10(x)) + 1\n",
    "    \n",
    "    for i in range(1,num_digits+1):\n",
    "        number = (x // 10**(i - 1)) % 10\n",
    "        complement = x%10**(num_digits-i+1)//10**(num_digits-i)\n",
    "        \n",
    "        if number != complement:\n",
    "          return False\n",
    "    \n",
    "    \n",
    "    return True\n",
    "    \n",
    "    "
   ]
  },
  {
   "cell_type": "code",
   "execution_count": 121,
   "id": "81bd9fa3",
   "metadata": {},
   "outputs": [],
   "source": [
    "x = 121\n",
    "assert isPalindrome(x) "
   ]
  },
  {
   "cell_type": "code",
   "execution_count": 122,
   "id": "4b0cdcd1",
   "metadata": {},
   "outputs": [],
   "source": [
    "x = -121\n",
    "assert not isPalindrome(x) "
   ]
  },
  {
   "cell_type": "code",
   "execution_count": 123,
   "id": "78ab594f",
   "metadata": {},
   "outputs": [],
   "source": [
    "x = 10\n",
    "assert not isPalindrome(x) "
   ]
  }
 ],
 "metadata": {
  "kernelspec": {
   "display_name": "envNN",
   "language": "python",
   "name": "python3"
  },
  "language_info": {
   "codemirror_mode": {
    "name": "ipython",
    "version": 3
   },
   "file_extension": ".py",
   "mimetype": "text/x-python",
   "name": "python",
   "nbconvert_exporter": "python",
   "pygments_lexer": "ipython3",
   "version": "3.11.11"
  }
 },
 "nbformat": 4,
 "nbformat_minor": 5
}

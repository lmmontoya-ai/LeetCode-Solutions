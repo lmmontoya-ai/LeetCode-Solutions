{
 "cells": [
  {
   "cell_type": "markdown",
   "id": "2b38ef99",
   "metadata": {},
   "source": [
    "# 3. Longest Substring Without Repeating Characters\n",
    "\n",
    "Given a string s, find the length of the longest substring without duplicate characters.\n",
    "\n",
    "\n",
    "Example 1:\n",
    "```\n",
    "Input: s = \"abcabcbb\"\n",
    "Output: 3\n",
    "Explanation: The answer is \"abc\", with the length of 3.\n",
    "```\n",
    "Example 2:\n",
    "```\n",
    "Input: s = \"bbbbb\"\n",
    "Output: 1\n",
    "Explanation: The answer is \"b\", with the length of 1.\n",
    "```\n",
    "Example 3:\n",
    "\n",
    "```\n",
    "Input: s = \"pwwkew\"\n",
    "Output: 3\n",
    "Explanation: The answer is \"wke\", with the length of 3.\n",
    "```\n",
    "\n",
    "Notice that the answer must be a substring, \"pwke\" is a subsequence and not a substring.\n",
    " \n",
    "\n",
    "Constraints:\n",
    "\n",
    "0 <= s.length <= 5 * 104\n",
    "s consists of English letters, digits, symbols and spaces."
   ]
  },
  {
   "cell_type": "code",
   "execution_count": null,
   "id": "9a0599c6",
   "metadata": {},
   "outputs": [],
   "source": [
    "def lengthOfLongestSubstring(s:str)->int:\n",
    "    \"\"\"\n",
    "    Finds the length of the longest substring in s, with no duplicate characters.\n",
    "    We cycle through s, keeping record of the last position of each character in a dictionary,\n",
    "    and the start of the substring\n",
    "    \n",
    "    For example, for \"abcabcbb\":\n",
    "    \"a\" -> seen = {\"a\":0}, start = 0, max_len = 1,\n",
    "    \"ab\" -> seen = {\"a\":0, \"b\":1}, start = 0, max_len = 2,\n",
    "    \"abc\" -> seen = {\"a\":0, \"b\":1, \"c\":2}, start = 0, max_len = 3,\n",
    "    \"bca\" -> seen = {\"a\":3, \"b\":1, \"c\":2}, start = 1, max_len = 3\n",
    "    \n",
    "    For example, for \"pwwkew\":\n",
    "    \"p\" -> seen = {\"p\":0}, start = 0, max_len = 1,\n",
    "    \"pw\" -> seen = {\"p\":0, \"w\":1}, start = 0, max_len = 2,\n",
    "    \"wk\" -> seen = {\"p\":0, \"w\":2}, start = 2, max_len = 2 # since w was already seen, we must move\n",
    "                                                            the start of the substring to the \n",
    "                                                            past position of w + 1 => 1 + 1 = 2 \n",
    "    \"wke\" -> seen = {\"a\":3, \"b\":1, \"c\":2}, start = 2, max_len = 3\n",
    "    \n",
    "    We calculate the length of substring by substracting the current index, the index of the start\n",
    "    of the substring + 1, and keep the max seen. \n",
    "    Args:\n",
    "        s (str): string to find the longest length of substring with no duplicate characters\n",
    "\n",
    "    Returns:\n",
    "        int: length of longest substring, with no duplicate characters\n",
    "    \"\"\"\n",
    "    max_len = 0\n",
    "    seen = {}\n",
    "    start = 0\n",
    "    \n",
    "    for i, c in enumerate(s):\n",
    "        if c not in seen:\n",
    "            seen[c] = i\n",
    "        else:\n",
    "            past_position = seen[c]\n",
    "            start = max(start, past_position+1)\n",
    "            seen[c] = i\n",
    "        \n",
    "        max_len = max(max_len, i-start+1)\n",
    "    \n",
    "    return max_len\n",
    "    \n",
    "    "
   ]
  },
  {
   "cell_type": "code",
   "execution_count": 11,
   "id": "65427e28",
   "metadata": {},
   "outputs": [],
   "source": [
    "s = \"abcabcbb\"\n",
    "assert lengthOfLongestSubstring(s) == 3"
   ]
  },
  {
   "cell_type": "code",
   "execution_count": 13,
   "id": "5b751d09",
   "metadata": {},
   "outputs": [],
   "source": [
    "s = \"bbbbb\"\n",
    "assert lengthOfLongestSubstring(s) == 1"
   ]
  },
  {
   "cell_type": "code",
   "execution_count": 14,
   "id": "43d7adb7",
   "metadata": {},
   "outputs": [],
   "source": [
    "s = \"pwwkew\"\n",
    "assert lengthOfLongestSubstring(s) == 3"
   ]
  }
 ],
 "metadata": {
  "kernelspec": {
   "display_name": "base",
   "language": "python",
   "name": "python3"
  },
  "language_info": {
   "codemirror_mode": {
    "name": "ipython",
    "version": 3
   },
   "file_extension": ".py",
   "mimetype": "text/x-python",
   "name": "python",
   "nbconvert_exporter": "python",
   "pygments_lexer": "ipython3",
   "version": "3.12.2"
  }
 },
 "nbformat": 4,
 "nbformat_minor": 5
}

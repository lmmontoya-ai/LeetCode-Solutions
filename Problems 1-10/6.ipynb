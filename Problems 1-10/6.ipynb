{
 "cells": [
  {
   "cell_type": "markdown",
   "id": "a263b9c8",
   "metadata": {},
   "source": [
    "# 6. Zigzag Conversion\n",
    "\n",
    "The string \"PAYPALISHIRING\" is written in a zigzag pattern on a given number of rows like this: (you may want to display this pattern in a fixed font for better legibility)\n",
    "\n",
    "    P   A   H   N\n",
    "    A P L S I I G\n",
    "    Y   I   R\n",
    "\n",
    "And then read line by line: `\"PAHNAPLSIIGYIR\"`  \n",
    "\n",
    "Write the code that will take a string and make this conversion given a number of rows:\n",
    "\n",
    "string convert(string s, int numRows);\n",
    " \n",
    "\n",
    "Example 1:\n",
    "\n",
    "Input: s = `\"PAYPALISHIRING\"`, `numRows = 3`\n",
    "Output: `\"PAHNAPLSIIGYIR\"`\n",
    "Example 2:\n",
    "\n",
    "Input: `s = \"PAYPALISHIRING\"`, `numRows = 4`\n",
    "Output: `\"PINALSIGYAHRPI\"`\n",
    "Explanation:\n",
    "    P     I    N\n",
    "    A   L S  I G\n",
    "    Y A   H R\n",
    "    P     I\n",
    "Example 3:\n",
    "\n",
    "Input: `s = \"A\"`, `numRows = 1`\n",
    "Output: `\"A\"` \n",
    "\n",
    "Constraints:\n",
    "\n",
    "    1 <= s.length <= 1000\n",
    "    s consists of English letters (lower-case and upper-case), ',' and '.'.\n",
    "    1 <= numRows <= 1000"
   ]
  },
  {
   "cell_type": "code",
   "execution_count": null,
   "id": "024a5994",
   "metadata": {},
   "outputs": [],
   "source": [
    "def convert(s, numRows):\n",
    "    \"\"\"\n",
    "    Zigzag of string S. \n",
    "    We iterate over s, counting the row each letter is placed in\n",
    "    and append them to the respective row. \n",
    "    Finally, we flatten the array of rows to a single string\n",
    "\n",
    "    Args:\n",
    "        s (str): String to zigzag\n",
    "        numRows (int): number of rows for the zigzag\n",
    "    Returns:\n",
    "        str: The Zigzag converted string\n",
    "    \"\"\"\n",
    "    rows_list = [[] for i in range(numRows)]\n",
    "    char = 0\n",
    "\n",
    "    while char < len(s):\n",
    "        i = 0\n",
    "        rows = 0\n",
    "        \n",
    "        while i < numRows and char < len(s):\n",
    "            rows_list[rows].append(s[char])\n",
    "            i += 1\n",
    "            char += 1\n",
    "            rows += 1\n",
    "            \n",
    "        rows = numRows - 2\n",
    "        i = 0\n",
    "        while i < numRows - 2 and char < len(s):\n",
    "            rows_list[rows].append(s[char])\n",
    "            char += 1\n",
    "            rows -= 1\n",
    "            i += 1\n",
    "        \n",
    "    return \"\".join(\"\".join(sub_s) for sub_s in rows_list)\n",
    "        "
   ]
  },
  {
   "cell_type": "code",
   "execution_count": 112,
   "id": "fb8b7ffc",
   "metadata": {},
   "outputs": [],
   "source": [
    "s = \"PAYPALISHIRING\"\n",
    "numRows = 3\n",
    "\n",
    "assert convert(s, numRows) == \"PAHNAPLSIIGYIR\""
   ]
  },
  {
   "cell_type": "code",
   "execution_count": 113,
   "id": "9bccd241",
   "metadata": {},
   "outputs": [],
   "source": [
    "s = \"PAYPALISHIRING\"\n",
    "numRows = 4\n",
    "\n",
    "assert convert(s, numRows) == \"PINALSIGYAHRPI\""
   ]
  },
  {
   "cell_type": "code",
   "execution_count": 114,
   "id": "32043df2",
   "metadata": {},
   "outputs": [],
   "source": [
    "s = \"A\"\n",
    "numRows = 1\n",
    "\n",
    "assert convert(s, numRows) == \"A\""
   ]
  },
  {
   "cell_type": "code",
   "execution_count": 115,
   "id": "93019f09",
   "metadata": {},
   "outputs": [],
   "source": [
    "def convert(s, numRows):\n",
    "    \"\"\"\n",
    "    Zigzag of string S. \n",
    "    We iterate over s, counting the row each letter is placed in\n",
    "    and append them to the respective row. \n",
    "    Finally, we flatten the array of rows to a single string\n",
    "\n",
    "    Args:\n",
    "        s (str): String to zigzag\n",
    "        numRows (int): number of rows for the zigzag\n",
    "    Returns:\n",
    "        str: The Zigzag converted string\n",
    "    \"\"\"\n",
    "    \n",
    "    if numRows == 1 or len(s)<=numRows:\n",
    "        return s\n",
    "    \n",
    "    rows = [[] for _ in range(numRows)]\n",
    "    cycle_len = 2*numRows - 2\n",
    "\n",
    "    for i, char in enumerate(s):\n",
    "        pos = i % cycle_len\n",
    "        if pos < numRows:\n",
    "            row = pos\n",
    "        else:\n",
    "            row = cycle_len - pos\n",
    "        \n",
    "        rows[row].append(char)\n",
    "        \n",
    "    return \"\".join(\"\".join(row) for row in rows)"
   ]
  },
  {
   "cell_type": "code",
   "execution_count": 116,
   "id": "a477d56a",
   "metadata": {},
   "outputs": [],
   "source": [
    "s = \"PAYPALISHIRING\"\n",
    "numRows = 3\n",
    "\n",
    "assert convert(s, numRows) == \"PAHNAPLSIIGYIR\""
   ]
  }
 ],
 "metadata": {
  "kernelspec": {
   "display_name": "base",
   "language": "python",
   "name": "python3"
  },
  "language_info": {
   "codemirror_mode": {
    "name": "ipython",
    "version": 3
   },
   "file_extension": ".py",
   "mimetype": "text/x-python",
   "name": "python",
   "nbconvert_exporter": "python",
   "pygments_lexer": "ipython3",
   "version": "3.12.2"
  }
 },
 "nbformat": 4,
 "nbformat_minor": 5
}

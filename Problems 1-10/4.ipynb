{
 "cells": [
  {
   "cell_type": "markdown",
   "id": "e7cb80e2",
   "metadata": {},
   "source": [
    "# 4. Median of Two Sorted Arrays\n",
    "\n",
    "Given two sorted arrays nums1 and nums2 of size m and n respectively, return the median of the two sorted arrays.\n",
    "\n",
    "The overall run time complexity should be O(log (m+n)).\n",
    "\n",
    " \n",
    "\n",
    "Example 1:\n",
    "```\n",
    "Input: nums1 = [1,3], nums2 = [2]\n",
    "Output: 2.00000\n",
    "Explanation: merged array = [1,2,3] and median is 2.\n",
    "```\n",
    "Example 2:\n",
    "```\n",
    "Input: nums1 = [1,2], nums2 = [3,4]\n",
    "Output: 2.50000\n",
    "Explanation: merged array = [1,2,3,4] and median is (2 + 3) / 2 = 2.5.\n",
    "```\n",
    "\n",
    "Constraints:\n",
    "\n",
    "nums1.length == m\n",
    "nums2.length == n\n",
    "0 <= m <= 1000\n",
    "0 <= n <= 1000\n",
    "1 <= m + n <= 2000\n",
    "-106 <= nums1[i], nums2[i] <= 106"
   ]
  },
  {
   "cell_type": "code",
   "execution_count": null,
   "id": "3d3666bd",
   "metadata": {},
   "outputs": [],
   "source": [
    "def findMedianSortedArrays(nums1, nums2):\n",
    "    \"\"\"\n",
    "    Finds the median of two sorted arrays.\n",
    "    We can reformulate the problem. Finding the median of two sorted arrays is equivalent to \n",
    "    finding a partition such that all elements to the left of i and j\n",
    "    are less than or equal to all elements to the right of i and j.\n",
    "    We can iterate over partitions using binary search, and by always applying binary search on\n",
    "    the smaller array we ensure O(log(min(m,n))).\n",
    "    \n",
    "\n",
    "    Args:\n",
    "        nums1 (list[int]): Array of numbers 1\n",
    "        nums2 (list[int]): Array of numbers 2\n",
    "\n",
    "    Returns:\n",
    "        _type_: _description_\n",
    "    \"\"\"\n",
    "        \n",
    "    if len(nums1) > len(nums2):\n",
    "        nums1, nums2 = nums2, nums1\n",
    "    m = len(nums1)\n",
    "    n = len(nums2)\n",
    "    \n",
    "    low, high = 0, m\n",
    "    while low <= high:\n",
    "        \n",
    "        i = (low+high)//2 \n",
    "        j = (m + n + 1)//2 - i \n",
    "            \n",
    "        left_1 = nums1[i-1] if i > 0 else float('-inf')\n",
    "        right_1 = nums1[i] if i < m else float('inf')\n",
    "            \n",
    "        \n",
    "        left_2 = nums2[j-1] if j > 0 else float('-inf')\n",
    "        right_2 = nums2[j] if j < n else float('inf')\n",
    "        \n",
    "        left = max(left_1,left_2)\n",
    "        right = min(right_1, right_2)\n",
    "        \n",
    "        \n",
    "        if left <= right:\n",
    "            if (m+n) % 2 == 0:\n",
    "                return (left + right)/2.0\n",
    "            else:\n",
    "                return left\n",
    "        else:\n",
    "            if left_1 > right_2:\n",
    "                high = i - 1\n",
    "            else:\n",
    "                low = i + 1\n",
    "        "
   ]
  },
  {
   "cell_type": "code",
   "execution_count": 220,
   "id": "d274fb6b",
   "metadata": {},
   "outputs": [
    {
     "name": "stdout",
     "output_type": "stream",
     "text": [
      "[2]\n"
     ]
    },
    {
     "data": {
      "text/plain": [
       "2"
      ]
     },
     "execution_count": 220,
     "metadata": {},
     "output_type": "execute_result"
    }
   ],
   "source": [
    "nums1 = [1,3] \n",
    "nums2 = [2]\n",
    "findMedianSortedArrays(nums1,nums2)"
   ]
  },
  {
   "cell_type": "code",
   "execution_count": 221,
   "id": "f603ece0",
   "metadata": {},
   "outputs": [
    {
     "name": "stdout",
     "output_type": "stream",
     "text": [
      "[3, 4]\n",
      "4\n"
     ]
    },
    {
     "data": {
      "text/plain": [
       "2.5"
      ]
     },
     "execution_count": 221,
     "metadata": {},
     "output_type": "execute_result"
    }
   ],
   "source": [
    "nums1 = [1,2]\n",
    "nums2 = [3,4]\n",
    "findMedianSortedArrays(nums1,nums2)"
   ]
  },
  {
   "cell_type": "code",
   "execution_count": 222,
   "id": "780c9e02",
   "metadata": {},
   "outputs": [
    {
     "data": {
      "text/plain": [
       "1.5"
      ]
     },
     "execution_count": 222,
     "metadata": {},
     "output_type": "execute_result"
    }
   ],
   "source": [
    "nums1 = [1,2]\n",
    "nums2 = []\n",
    "findMedianSortedArrays(nums1,nums2)"
   ]
  },
  {
   "cell_type": "code",
   "execution_count": 223,
   "id": "7762f305",
   "metadata": {},
   "outputs": [
    {
     "name": "stdout",
     "output_type": "stream",
     "text": [
      "[1, 2, 3, 4, 5]\n"
     ]
    },
    {
     "data": {
      "text/plain": [
       "9"
      ]
     },
     "execution_count": 223,
     "metadata": {},
     "output_type": "execute_result"
    }
   ],
   "source": [
    "nums1 = [1,2,3,4,5]\n",
    "nums2 = [6,7,8,9,10,11,12,13,14,15,16,17]\n",
    "findMedianSortedArrays(nums1,nums2)"
   ]
  },
  {
   "cell_type": "code",
   "execution_count": null,
   "id": "3da41401",
   "metadata": {},
   "outputs": [],
   "source": []
  },
  {
   "cell_type": "code",
   "execution_count": null,
   "id": "58d56538",
   "metadata": {},
   "outputs": [],
   "source": []
  }
 ],
 "metadata": {
  "kernelspec": {
   "display_name": "base",
   "language": "python",
   "name": "python3"
  },
  "language_info": {
   "codemirror_mode": {
    "name": "ipython",
    "version": 3
   },
   "file_extension": ".py",
   "mimetype": "text/x-python",
   "name": "python",
   "nbconvert_exporter": "python",
   "pygments_lexer": "ipython3",
   "version": "3.12.2"
  }
 },
 "nbformat": 4,
 "nbformat_minor": 5
}

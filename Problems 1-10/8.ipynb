{
 "cells": [
  {
   "cell_type": "markdown",
   "id": "a2f02651",
   "metadata": {},
   "source": [
    "# 8. String to Integer (atoi)\n",
    "\n",
    "Implement the myAtoi(string s) function, which converts a string to a 32-bit signed integer.\n",
    "\n",
    "The algorithm for myAtoi(string s) is as follows:\n",
    "\n",
    "- Whitespace: Ignore any leading whitespace (\" \").\n",
    "- Signedness: Determine the sign by checking if the next character is '-' or '+', assuming positivity if neither present.\n",
    "- Conversion: Read the integer by skipping leading zeros until a non-digit character is encountered or the end of the string is reached. If no digits were read, then the result is 0.\n",
    "- Rounding: If the integer is out of the 32-bit signed integer range `[-2^31, 2^31 - 1]`, then round the integer to remain in the range. Specifically, integers less than -231 should be rounded to `-2^31`, and integers greater than `2^31 - 1` should be rounded to `2^31 - 1`.\n",
    "- Return the integer as the final result.\n",
    "\n",
    " \n",
    "\n",
    "Example 1:\n",
    "\n",
    "Input: `s = \"42\"`\n",
    "\n",
    "Output: `42`\n",
    "\n",
    "Explanation:\n",
    "```\n",
    "The underlined characters are what is read in and the caret is the current reader position.\n",
    "Step 1: \"42\" (no characters read because there is no leading whitespace)\n",
    "         ^\n",
    "Step 2: \"42\" (no characters read because there is neither a '-' nor '+')\n",
    "         ^\n",
    "Step 3: \"42\" (\"42\" is read in)\n",
    "```\n",
    "           ^\n",
    "Example 2:\n",
    "\n",
    "Input: `s = \" -042\"`\n",
    "\n",
    "Output: `-42`\n",
    "\n",
    "Explanation:\n",
    "\n",
    "```\n",
    "Step 1: \"   -042\" (leading whitespace is read and ignored)\n",
    "            ^\n",
    "Step 2: \"   -042\" ('-' is read, so the result should be negative)\n",
    "             ^\n",
    "Step 3: \"   -042\" (\"042\" is read in, leading zeros ignored in the result)\n",
    "```           \n",
    "Example 3:\n",
    "\n",
    "Input: `s = \"1337c0d3\"`\n",
    "\n",
    "Output: `1337`\n",
    "\n",
    "Explanation:\n",
    "```\n",
    "Step 1: \"1337c0d3\" (no characters read because there is no leading whitespace)\n",
    "         ^\n",
    "Step 2: \"1337c0d3\" (no characters read because there is neither a '-' nor '+')\n",
    "         ^\n",
    "Step 3: \"1337c0d3\" (\"1337\" is read in; reading stops because the next character is a non-digit)\n",
    "             ^\n",
    "```\n",
    "Example 4:\n",
    "\n",
    "Input: `s = \"0-1\"`\n",
    "\n",
    "Output: `0`\n",
    "\n",
    "Explanation:\n",
    "```\n",
    "Step 1: \"0-1\" (no characters read because there is no leading whitespace)\n",
    "         ^\n",
    "Step 2: \"0-1\" (no characters read because there is neither a '-' nor '+')\n",
    "         ^\n",
    "Step 3: \"0-1\" (\"0\" is read in; reading stops because the next character is a non-digit)\n",
    "```    \n",
    "Example 5:\n",
    "\n",
    "Input: `s = \"words and 987\"`\n",
    "\n",
    "Output: `0`\n",
    "\n",
    "Explanation:\n",
    "\n",
    "Reading stops at the first non-digit character 'w'.\n",
    "\n",
    " \n",
    "\n",
    "Constraints:\n",
    "\n",
    "`0 <= s.length <= 200`\n",
    "s consists of English letters (lower-case and upper-case), digits (0-9), ' ', '+', '-', and '.'."
   ]
  },
  {
   "cell_type": "code",
   "execution_count": 2,
   "id": "183e3db6",
   "metadata": {},
   "outputs": [
    {
     "data": {
      "text/plain": [
       "'20232'"
      ]
     },
     "execution_count": 2,
     "metadata": {},
     "output_type": "execute_result"
    }
   ],
   "source": [
    "\" 20232\".strip()"
   ]
  },
  {
   "cell_type": "code",
   "execution_count": null,
   "id": "12f5e684",
   "metadata": {},
   "outputs": [],
   "source": [
    "def myAtoi(s):\n",
    "    \"\"\"\n",
    "    Strip the string to remove leading whitespaces.\n",
    "    Extract the sign by checking the first character.\n",
    "    Then iterate over the remain characters. \n",
    "    Stop when the character is not a digit. \n",
    "\n",
    "    Args:\n",
    "        s (str): string to convert to 32-bit integer.\n",
    "\n",
    "    Returns:\n",
    "        int: converted integer\n",
    "    \"\"\"\n",
    "    MIN = -2**31\n",
    "    MAX = 2**31 - 1\n",
    "    i_char = 0\n",
    "    sign = 1\n",
    "    number = \"\"\n",
    "    \n",
    "    s = s.strip()\n",
    "    \n",
    "    if s[0] in ['+', '-']:\n",
    "            sign = 1 if s[0] == '+' else -1\n",
    "            s = s[1:]\n",
    "    \n",
    "    while i_char < len(s):\n",
    "        \n",
    "        char = s[i_char]\n",
    "            \n",
    "        if char.isdigit():\n",
    "            number += char\n",
    "        else:\n",
    "            break\n",
    "        \n",
    "        i_char += 1\n",
    "     \n",
    "    try:  \n",
    "        result = sign*int(number)\n",
    "    except Exception:\n",
    "        return 0\n",
    "    \n",
    "    if result < MIN:\n",
    "        return MIN\n",
    "    elif result > MAX:\n",
    "        return MAX\n",
    "    else:\n",
    "        return result"
   ]
  },
  {
   "cell_type": "code",
   "execution_count": 66,
   "id": "6f06bde0",
   "metadata": {},
   "outputs": [],
   "source": [
    "s = \"42\"\n",
    "assert myAtoi(s) == 42"
   ]
  },
  {
   "cell_type": "code",
   "execution_count": 67,
   "id": "cab01e4b",
   "metadata": {},
   "outputs": [],
   "source": [
    "s = \" -042\"\n",
    "assert myAtoi(s) == -42"
   ]
  },
  {
   "cell_type": "code",
   "execution_count": 68,
   "id": "20aea791",
   "metadata": {},
   "outputs": [],
   "source": [
    "s = \"1337c0d3\"\n",
    "assert myAtoi(s) == 1337"
   ]
  },
  {
   "cell_type": "code",
   "execution_count": 69,
   "id": "dca04889",
   "metadata": {},
   "outputs": [],
   "source": [
    "s = \"0-1\"\n",
    "assert myAtoi(s) == 0"
   ]
  },
  {
   "cell_type": "code",
   "execution_count": 70,
   "id": "0c4497d7",
   "metadata": {},
   "outputs": [],
   "source": [
    "s = \"words and 987\"\n",
    "assert myAtoi(s) == 0"
   ]
  }
 ],
 "metadata": {
  "kernelspec": {
   "display_name": "base",
   "language": "python",
   "name": "python3"
  },
  "language_info": {
   "codemirror_mode": {
    "name": "ipython",
    "version": 3
   },
   "file_extension": ".py",
   "mimetype": "text/x-python",
   "name": "python",
   "nbconvert_exporter": "python",
   "pygments_lexer": "ipython3",
   "version": "3.12.2"
  }
 },
 "nbformat": 4,
 "nbformat_minor": 5
}

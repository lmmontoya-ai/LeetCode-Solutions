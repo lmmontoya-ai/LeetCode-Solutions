{
 "cells": [
  {
   "cell_type": "markdown",
   "id": "28c588ef",
   "metadata": {},
   "source": [
    "# 7. Reverse Integer\n",
    "\n",
    "Given a signed 32-bit integer x, return x with its digits reversed. If reversing x causes the value to go outside the signed 32-bit integer range `[-2^31, 2^31 - 1]`, then return 0.\n",
    "\n",
    "Assume the environment does not allow you to store 64-bit integers (signed or unsigned).\n",
    "\n",
    "Example 1:\n",
    "\n",
    "Input: `x = 123`\n",
    "Output: `321`\n",
    "Example 2:\n",
    "\n",
    "Input: `x = -123`\n",
    "Output: `-321`\n",
    "Example 3:\n",
    "\n",
    "Input: `x = 120`\n",
    "Output: `21`\n",
    " \n",
    "\n",
    "Constraints:\n",
    "\n",
    "`-2^31 <= x <= 2^31 - 1`"
   ]
  },
  {
   "cell_type": "code",
   "execution_count": null,
   "id": "1fbcb422",
   "metadata": {},
   "outputs": [],
   "source": [
    "def reverse(x):\n",
    "    \"\"\"\n",
    "    Reverses the digits of an integer.\n",
    "    We first check if the integer is positive or negative.\n",
    "    If it is positive, we reverse the digits and check if the result is within the range of 32-bit integers.\n",
    "    If it is negative, we reverse the digits of the absolute value of the integer and check if the result is within the range of 32-bit integers.\n",
    "    We return 0 if the result is not within the range of 32-bit integers.\n",
    "\n",
    "    Args:\n",
    "        x (int): The integer to reverse.\n",
    "\n",
    "    Returns:\n",
    "        int: The reversed integer.\n",
    "    \"\"\"\n",
    "    \n",
    "    MIN = -2**31\n",
    "    MAX = 2**31 - 1\n",
    "    \n",
    "    if x >= 0:\n",
    "        x = int(str(x)[::-1])\n",
    "        if x > MAX:\n",
    "            return 0\n",
    "        else:\n",
    "            return x\n",
    "    \n",
    "    else:\n",
    "        x = -int(str(x)[1:][::-1])\n",
    "        if x < MIN:\n",
    "            return 0\n",
    "        else:\n",
    "            return x\n",
    "    \n",
    "    "
   ]
  },
  {
   "cell_type": "code",
   "execution_count": 46,
   "id": "6b078431",
   "metadata": {},
   "outputs": [],
   "source": [
    "x = 123\n",
    "assert reverse(x) == 321"
   ]
  },
  {
   "cell_type": "code",
   "execution_count": 47,
   "id": "ed8ed2fd",
   "metadata": {},
   "outputs": [],
   "source": [
    "x = -123\n",
    "assert reverse(x) == -321"
   ]
  },
  {
   "cell_type": "code",
   "execution_count": 48,
   "id": "dc63e6ca",
   "metadata": {},
   "outputs": [],
   "source": [
    "x = 120\n",
    "assert reverse(x) == 21"
   ]
  }
 ],
 "metadata": {
  "kernelspec": {
   "display_name": "base",
   "language": "python",
   "name": "python3"
  },
  "language_info": {
   "codemirror_mode": {
    "name": "ipython",
    "version": 3
   },
   "file_extension": ".py",
   "mimetype": "text/x-python",
   "name": "python",
   "nbconvert_exporter": "python",
   "pygments_lexer": "ipython3",
   "version": "3.12.2"
  }
 },
 "nbformat": 4,
 "nbformat_minor": 5
}

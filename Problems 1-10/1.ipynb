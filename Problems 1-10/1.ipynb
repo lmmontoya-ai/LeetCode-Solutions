{
 "cells": [
  {
   "cell_type": "markdown",
   "metadata": {},
   "source": [
    "# 1. Two Sum\n",
    "Given an array of integers nums and an integer target, return indices of the two numbers such that they add up to target.\n",
    "\n",
    "You may assume that each input would have exactly one solution, and you may not use the same element twice.\n",
    "\n",
    "You can return the answer in any order.\n",
    "\n",
    "Example 1:\n",
    "```\n",
    "Input: nums = [2,7,11,15], target = 9\n",
    "Output: [0,1]\n",
    "Explanation: Because nums[0] + nums[1] == 9, we return [0, 1].\n",
    "```\n",
    "Example 2:\n",
    "```\n",
    "Input: nums = [3,2,4], target = 6\n",
    "Output: [1,2]\n",
    "```\n",
    "Example 3:\n",
    "```\n",
    "Input: nums = [3,3], target = 6\n",
    "Output: [0,1]\n",
    "```\n",
    "\n",
    "Constraints:\n",
    "\n",
    "- 2 <= nums.length <= 104\n",
    "- -109 <= nums[i] <= 109\n",
    "- -109 <= target <= 109\n",
    "- Only one valid answer exists.\n",
    " \n",
    "\n",
    "Follow-up: Can you come up with an algorithm that is less than O(n2) time complexity?"
   ]
  },
  {
   "cell_type": "code",
   "execution_count": null,
   "metadata": {},
   "outputs": [],
   "source": [
    "def two_sum(nums: list[int], target: int) -> list[int]:\n",
    "    \"\"\"\n",
    "    Summary:\n",
    "        Return the indices of two numbers in nums that sum up to target.\n",
    "        Stores the index of numbers in a dictionary if its complement (target - num)\n",
    "        is not in the dictionary.\n",
    "\n",
    "    Explanaition:\n",
    "        By storing the numbers and their indices in a dictionary,\n",
    "        calculating the complement of all numbers, and checking if the complement\n",
    "        is in the dictionary (i.e another number of the list already seen)\n",
    "        we are ensuring that the algorithm takes at must 'n' steps to find the number\n",
    "        and complement indices\n",
    "    Args:\n",
    "        nums (list[int]): list of numbers\n",
    "        target (int): target of sum\n",
    "\n",
    "    Returns:\n",
    "        list[int]: indices of numbers that summed equal target\n",
    "    \"\"\"\n",
    "    seen = {}\n",
    "    for i, num in enumerate(nums):\n",
    "        complement = target - num\n",
    "\n",
    "        if complement in seen:\n",
    "            return [seen[complement], i]\n",
    "\n",
    "        seen[num] = i"
   ]
  },
  {
   "cell_type": "code",
   "execution_count": null,
   "metadata": {},
   "outputs": [],
   "source": [
    "nums = [2, 7, 11, 15]\n",
    "target = 9\n",
    "assert set(two_sum(nums, target)) == set([0, 1])"
   ]
  },
  {
   "cell_type": "code",
   "execution_count": null,
   "metadata": {},
   "outputs": [],
   "source": [
    "nums = [3, 2, 4]\n",
    "target = 6\n",
    "assert set(two_sum(nums, target)) == set([1, 2])"
   ]
  },
  {
   "cell_type": "code",
   "execution_count": null,
   "metadata": {},
   "outputs": [],
   "source": [
    "nums = [3, 3]\n",
    "target = 6\n",
    "assert set(two_sum(nums, target)) == set([0, 1])"
   ]
  }
 ],
 "metadata": {
  "language_info": {
   "codemirror_mode": {
    "name": "ipython",
    "version": 3
   },
   "file_extension": ".py",
   "mimetype": "text/x-python",
   "name": "python",
   "nbconvert_exporter": "python",
   "pygments_lexer": "ipython3"
  }
 },
 "nbformat": 4,
 "nbformat_minor": 2
}

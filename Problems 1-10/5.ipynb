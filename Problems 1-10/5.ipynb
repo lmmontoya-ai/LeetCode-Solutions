{
 "cells": [
  {
   "cell_type": "markdown",
   "id": "fa0848f2",
   "metadata": {},
   "source": [
    "# 5. Longest Palindromic Substring\n",
    "\n",
    "Given a string s, return the longest palindromic substring in s.\n",
    "\n",
    "Example 1:\n",
    "```\n",
    "Input: s = \"babad\"\n",
    "Output: \"bab\"\n",
    "Explanation: \"aba\" is also a valid answer.\n",
    "```\n",
    "Example 2:\n",
    "```\n",
    "Input: s = \"cbbd\"\n",
    "Output: \"bb\"\n",
    "```\n",
    "\n",
    "Constraints:\n",
    "\n",
    "1 <= s.length <= 1000\n",
    "s consist of only digits and English letters."
   ]
  },
  {
   "cell_type": "code",
   "execution_count": 194,
   "id": "accf1adf",
   "metadata": {},
   "outputs": [],
   "source": [
    "def longestPalindrome(s:str)->str:\n",
    "    \"\"\"\n",
    "    Find the longest palindrome in a string.\n",
    "    Iterate over the string, and expanding the bounds outwards if the current\n",
    "    characters at left and right are the same. \n",
    "    We need to have two expanding alternatives, one for odd and another for even palindromes\n",
    "\n",
    "    Args:\n",
    "        s (str): String to find the longest palindrome\n",
    "\n",
    "    Returns:\n",
    "        str: The longest palindrome\n",
    "    \"\"\"\n",
    "    start, end = 0, 0\n",
    "    \n",
    "    length = len(s)\n",
    "    for i in range(length):\n",
    "    \n",
    "        l1 = i \n",
    "        r1 = i \n",
    "        while l1 >= 0 and r1 < length and s[l1] == s[r1]:\n",
    "            if r1 - l1 > end - start:\n",
    "                start, end = l1, r1\n",
    "            l1 -= 1\n",
    "            r1 += 1\n",
    "        \n",
    "        l2 = i - 1\n",
    "        r2 = i\n",
    "        \n",
    "        while l2 >= 0 and r2 < length and s[l2] == s[r2]: \n",
    "            if r2 - l2 > end - start:\n",
    "                start, end = l2, r2\n",
    "            l2 -= 1\n",
    "            r2 += 1\n",
    "            \n",
    "    \n",
    "    \n",
    "    return s[start:end+1]"
   ]
  },
  {
   "cell_type": "code",
   "execution_count": 195,
   "id": "e957914c",
   "metadata": {},
   "outputs": [],
   "source": [
    "s = \"babad\"\n",
    "assert longestPalindrome(s) in [\"bab\", \"aba\"]"
   ]
  },
  {
   "cell_type": "code",
   "execution_count": 196,
   "id": "0ea70313",
   "metadata": {},
   "outputs": [],
   "source": [
    "s = \"cbbd\"\n",
    "assert longestPalindrome(s) == 'bb'"
   ]
  },
  {
   "cell_type": "code",
   "execution_count": 198,
   "id": "52d51ad2",
   "metadata": {},
   "outputs": [
    {
     "data": {
      "text/plain": [
       "'c'"
      ]
     },
     "execution_count": 198,
     "metadata": {},
     "output_type": "execute_result"
    }
   ],
   "source": [
    "s = \"cavc\"\n",
    "longestPalindrome(s)"
   ]
  },
  {
   "cell_type": "code",
   "execution_count": null,
   "id": "3d49be06",
   "metadata": {},
   "outputs": [],
   "source": []
  }
 ],
 "metadata": {
  "kernelspec": {
   "display_name": "base",
   "language": "python",
   "name": "python3"
  },
  "language_info": {
   "codemirror_mode": {
    "name": "ipython",
    "version": 3
   },
   "file_extension": ".py",
   "mimetype": "text/x-python",
   "name": "python",
   "nbconvert_exporter": "python",
   "pygments_lexer": "ipython3",
   "version": "3.12.2"
  }
 },
 "nbformat": 4,
 "nbformat_minor": 5
}
